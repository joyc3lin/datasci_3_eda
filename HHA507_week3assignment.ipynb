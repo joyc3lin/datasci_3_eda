{
  "nbformat": 4,
  "nbformat_minor": 0,
  "metadata": {
    "colab": {
      "provenance": [],
      "authorship_tag": "ABX9TyO8GA7EnSOrp2zfstdgEkY3",
      "include_colab_link": true
    },
    "kernelspec": {
      "name": "python3",
      "display_name": "Python 3"
    },
    "language_info": {
      "name": "python"
    }
  },
  "cells": [
    {
      "cell_type": "markdown",
      "metadata": {
        "id": "view-in-github",
        "colab_type": "text"
      },
      "source": [
        "<a href=\"https://colab.research.google.com/github/joyc3lin/datasci_3_eda/blob/main/HHA507_week3assignment.ipynb\" target=\"_parent\"><img src=\"https://colab.research.google.com/assets/colab-badge.svg\" alt=\"Open In Colab\"/></a>"
      ]
    },
    {
      "cell_type": "code",
      "execution_count": 28,
      "metadata": {
        "id": "kVvxkgj06kA0"
      },
      "outputs": [],
      "source": [
        "import pandas as pd\n",
        "import numpy as np\n",
        "import matplotlib.pyplot as plt"
      ]
    },
    {
      "cell_type": "markdown",
      "source": [
        "## **1. Univariate Analysis**"
      ],
      "metadata": {
        "id": "zQJpSLCVB3AR"
      }
    },
    {
      "cell_type": "code",
      "source": [
        "# loading dataset - grain sales\n",
        "df_grain = pd.read_csv('data/all_grains_data.csv')\n",
        "df_grain.sample(10)"
      ],
      "metadata": {
        "colab": {
          "base_uri": "https://localhost:8080/",
          "height": 363
        },
        "id": "Em3okE_TCisR",
        "outputId": "1b100be4-7538-4c09-c9af-36412e2f1c6b"
      },
      "execution_count": 27,
      "outputs": [
        {
          "output_type": "execute_result",
          "data": {
            "text/plain": [
              "      ticker     commodity        date         open     high          low  \\\n",
              "3642    ZC=F          Corn  2015-02-24   379.000000   387.00   377.500000   \n",
              "11964   KE=F  KC HRW Wheat  2002-04-22   288.000000   288.75   284.000000   \n",
              "28454   ZL=F   Soybean Oil  2021-02-22    47.860001    48.09    47.310001   \n",
              "34796   ZS=F       Soybean  2023-05-05  1452.000000  1470.00  1452.000000   \n",
              "265     ZC=F          Corn  2001-09-21   214.000000   214.00   214.000000   \n",
              "22351   ZR=F    Rough Rice  2019-12-23  1278.000000  1293.50  1278.000000   \n",
              "34845   ZS=F       Soybean  2023-07-18  1476.500000  1501.00  1474.250000   \n",
              "15259   KE=F  KC HRW Wheat  2015-05-21   545.000000   564.50   544.000000   \n",
              "3126    ZC=F          Corn  2013-02-05   734.000000   735.00   724.000000   \n",
              "13274   KE=F  KC HRW Wheat  2007-07-03   573.000000   585.50   573.000000   \n",
              "\n",
              "             close  volume  \n",
              "3642    377.500000  207228  \n",
              "11964   285.000000    1723  \n",
              "28454    47.900002   33837  \n",
              "34796  1469.000000     242  \n",
              "265     214.000000       5  \n",
              "22351  1291.500000     627  \n",
              "34845  1492.000000   26908  \n",
              "15259   557.750000   19403  \n",
              "3126    729.000000  138896  \n",
              "13274   585.000000     282  "
            ],
            "text/html": [
              "\n",
              "  <div id=\"df-0f2ef87b-294e-4058-804f-4308ee94ba5b\" class=\"colab-df-container\">\n",
              "    <div>\n",
              "<style scoped>\n",
              "    .dataframe tbody tr th:only-of-type {\n",
              "        vertical-align: middle;\n",
              "    }\n",
              "\n",
              "    .dataframe tbody tr th {\n",
              "        vertical-align: top;\n",
              "    }\n",
              "\n",
              "    .dataframe thead th {\n",
              "        text-align: right;\n",
              "    }\n",
              "</style>\n",
              "<table border=\"1\" class=\"dataframe\">\n",
              "  <thead>\n",
              "    <tr style=\"text-align: right;\">\n",
              "      <th></th>\n",
              "      <th>ticker</th>\n",
              "      <th>commodity</th>\n",
              "      <th>date</th>\n",
              "      <th>open</th>\n",
              "      <th>high</th>\n",
              "      <th>low</th>\n",
              "      <th>close</th>\n",
              "      <th>volume</th>\n",
              "    </tr>\n",
              "  </thead>\n",
              "  <tbody>\n",
              "    <tr>\n",
              "      <th>3642</th>\n",
              "      <td>ZC=F</td>\n",
              "      <td>Corn</td>\n",
              "      <td>2015-02-24</td>\n",
              "      <td>379.000000</td>\n",
              "      <td>387.00</td>\n",
              "      <td>377.500000</td>\n",
              "      <td>377.500000</td>\n",
              "      <td>207228</td>\n",
              "    </tr>\n",
              "    <tr>\n",
              "      <th>11964</th>\n",
              "      <td>KE=F</td>\n",
              "      <td>KC HRW Wheat</td>\n",
              "      <td>2002-04-22</td>\n",
              "      <td>288.000000</td>\n",
              "      <td>288.75</td>\n",
              "      <td>284.000000</td>\n",
              "      <td>285.000000</td>\n",
              "      <td>1723</td>\n",
              "    </tr>\n",
              "    <tr>\n",
              "      <th>28454</th>\n",
              "      <td>ZL=F</td>\n",
              "      <td>Soybean Oil</td>\n",
              "      <td>2021-02-22</td>\n",
              "      <td>47.860001</td>\n",
              "      <td>48.09</td>\n",
              "      <td>47.310001</td>\n",
              "      <td>47.900002</td>\n",
              "      <td>33837</td>\n",
              "    </tr>\n",
              "    <tr>\n",
              "      <th>34796</th>\n",
              "      <td>ZS=F</td>\n",
              "      <td>Soybean</td>\n",
              "      <td>2023-05-05</td>\n",
              "      <td>1452.000000</td>\n",
              "      <td>1470.00</td>\n",
              "      <td>1452.000000</td>\n",
              "      <td>1469.000000</td>\n",
              "      <td>242</td>\n",
              "    </tr>\n",
              "    <tr>\n",
              "      <th>265</th>\n",
              "      <td>ZC=F</td>\n",
              "      <td>Corn</td>\n",
              "      <td>2001-09-21</td>\n",
              "      <td>214.000000</td>\n",
              "      <td>214.00</td>\n",
              "      <td>214.000000</td>\n",
              "      <td>214.000000</td>\n",
              "      <td>5</td>\n",
              "    </tr>\n",
              "    <tr>\n",
              "      <th>22351</th>\n",
              "      <td>ZR=F</td>\n",
              "      <td>Rough Rice</td>\n",
              "      <td>2019-12-23</td>\n",
              "      <td>1278.000000</td>\n",
              "      <td>1293.50</td>\n",
              "      <td>1278.000000</td>\n",
              "      <td>1291.500000</td>\n",
              "      <td>627</td>\n",
              "    </tr>\n",
              "    <tr>\n",
              "      <th>34845</th>\n",
              "      <td>ZS=F</td>\n",
              "      <td>Soybean</td>\n",
              "      <td>2023-07-18</td>\n",
              "      <td>1476.500000</td>\n",
              "      <td>1501.00</td>\n",
              "      <td>1474.250000</td>\n",
              "      <td>1492.000000</td>\n",
              "      <td>26908</td>\n",
              "    </tr>\n",
              "    <tr>\n",
              "      <th>15259</th>\n",
              "      <td>KE=F</td>\n",
              "      <td>KC HRW Wheat</td>\n",
              "      <td>2015-05-21</td>\n",
              "      <td>545.000000</td>\n",
              "      <td>564.50</td>\n",
              "      <td>544.000000</td>\n",
              "      <td>557.750000</td>\n",
              "      <td>19403</td>\n",
              "    </tr>\n",
              "    <tr>\n",
              "      <th>3126</th>\n",
              "      <td>ZC=F</td>\n",
              "      <td>Corn</td>\n",
              "      <td>2013-02-05</td>\n",
              "      <td>734.000000</td>\n",
              "      <td>735.00</td>\n",
              "      <td>724.000000</td>\n",
              "      <td>729.000000</td>\n",
              "      <td>138896</td>\n",
              "    </tr>\n",
              "    <tr>\n",
              "      <th>13274</th>\n",
              "      <td>KE=F</td>\n",
              "      <td>KC HRW Wheat</td>\n",
              "      <td>2007-07-03</td>\n",
              "      <td>573.000000</td>\n",
              "      <td>585.50</td>\n",
              "      <td>573.000000</td>\n",
              "      <td>585.000000</td>\n",
              "      <td>282</td>\n",
              "    </tr>\n",
              "  </tbody>\n",
              "</table>\n",
              "</div>\n",
              "    <div class=\"colab-df-buttons\">\n",
              "\n",
              "  <div class=\"colab-df-container\">\n",
              "    <button class=\"colab-df-convert\" onclick=\"convertToInteractive('df-0f2ef87b-294e-4058-804f-4308ee94ba5b')\"\n",
              "            title=\"Convert this dataframe to an interactive table.\"\n",
              "            style=\"display:none;\">\n",
              "\n",
              "  <svg xmlns=\"http://www.w3.org/2000/svg\" height=\"24px\" viewBox=\"0 -960 960 960\">\n",
              "    <path d=\"M120-120v-720h720v720H120Zm60-500h600v-160H180v160Zm220 220h160v-160H400v160Zm0 220h160v-160H400v160ZM180-400h160v-160H180v160Zm440 0h160v-160H620v160ZM180-180h160v-160H180v160Zm440 0h160v-160H620v160Z\"/>\n",
              "  </svg>\n",
              "    </button>\n",
              "\n",
              "  <style>\n",
              "    .colab-df-container {\n",
              "      display:flex;\n",
              "      gap: 12px;\n",
              "    }\n",
              "\n",
              "    .colab-df-convert {\n",
              "      background-color: #E8F0FE;\n",
              "      border: none;\n",
              "      border-radius: 50%;\n",
              "      cursor: pointer;\n",
              "      display: none;\n",
              "      fill: #1967D2;\n",
              "      height: 32px;\n",
              "      padding: 0 0 0 0;\n",
              "      width: 32px;\n",
              "    }\n",
              "\n",
              "    .colab-df-convert:hover {\n",
              "      background-color: #E2EBFA;\n",
              "      box-shadow: 0px 1px 2px rgba(60, 64, 67, 0.3), 0px 1px 3px 1px rgba(60, 64, 67, 0.15);\n",
              "      fill: #174EA6;\n",
              "    }\n",
              "\n",
              "    .colab-df-buttons div {\n",
              "      margin-bottom: 4px;\n",
              "    }\n",
              "\n",
              "    [theme=dark] .colab-df-convert {\n",
              "      background-color: #3B4455;\n",
              "      fill: #D2E3FC;\n",
              "    }\n",
              "\n",
              "    [theme=dark] .colab-df-convert:hover {\n",
              "      background-color: #434B5C;\n",
              "      box-shadow: 0px 1px 3px 1px rgba(0, 0, 0, 0.15);\n",
              "      filter: drop-shadow(0px 1px 2px rgba(0, 0, 0, 0.3));\n",
              "      fill: #FFFFFF;\n",
              "    }\n",
              "  </style>\n",
              "\n",
              "    <script>\n",
              "      const buttonEl =\n",
              "        document.querySelector('#df-0f2ef87b-294e-4058-804f-4308ee94ba5b button.colab-df-convert');\n",
              "      buttonEl.style.display =\n",
              "        google.colab.kernel.accessAllowed ? 'block' : 'none';\n",
              "\n",
              "      async function convertToInteractive(key) {\n",
              "        const element = document.querySelector('#df-0f2ef87b-294e-4058-804f-4308ee94ba5b');\n",
              "        const dataTable =\n",
              "          await google.colab.kernel.invokeFunction('convertToInteractive',\n",
              "                                                    [key], {});\n",
              "        if (!dataTable) return;\n",
              "\n",
              "        const docLinkHtml = 'Like what you see? Visit the ' +\n",
              "          '<a target=\"_blank\" href=https://colab.research.google.com/notebooks/data_table.ipynb>data table notebook</a>'\n",
              "          + ' to learn more about interactive tables.';\n",
              "        element.innerHTML = '';\n",
              "        dataTable['output_type'] = 'display_data';\n",
              "        await google.colab.output.renderOutput(dataTable, element);\n",
              "        const docLink = document.createElement('div');\n",
              "        docLink.innerHTML = docLinkHtml;\n",
              "        element.appendChild(docLink);\n",
              "      }\n",
              "    </script>\n",
              "  </div>\n",
              "\n",
              "\n",
              "<div id=\"df-4239be0a-87b3-4017-92bc-7778f2f0f21e\">\n",
              "  <button class=\"colab-df-quickchart\" onclick=\"quickchart('df-4239be0a-87b3-4017-92bc-7778f2f0f21e')\"\n",
              "            title=\"Suggest charts.\"\n",
              "            style=\"display:none;\">\n",
              "\n",
              "<svg xmlns=\"http://www.w3.org/2000/svg\" height=\"24px\"viewBox=\"0 0 24 24\"\n",
              "     width=\"24px\">\n",
              "    <g>\n",
              "        <path d=\"M19 3H5c-1.1 0-2 .9-2 2v14c0 1.1.9 2 2 2h14c1.1 0 2-.9 2-2V5c0-1.1-.9-2-2-2zM9 17H7v-7h2v7zm4 0h-2V7h2v10zm4 0h-2v-4h2v4z\"/>\n",
              "    </g>\n",
              "</svg>\n",
              "  </button>\n",
              "\n",
              "<style>\n",
              "  .colab-df-quickchart {\n",
              "      --bg-color: #E8F0FE;\n",
              "      --fill-color: #1967D2;\n",
              "      --hover-bg-color: #E2EBFA;\n",
              "      --hover-fill-color: #174EA6;\n",
              "      --disabled-fill-color: #AAA;\n",
              "      --disabled-bg-color: #DDD;\n",
              "  }\n",
              "\n",
              "  [theme=dark] .colab-df-quickchart {\n",
              "      --bg-color: #3B4455;\n",
              "      --fill-color: #D2E3FC;\n",
              "      --hover-bg-color: #434B5C;\n",
              "      --hover-fill-color: #FFFFFF;\n",
              "      --disabled-bg-color: #3B4455;\n",
              "      --disabled-fill-color: #666;\n",
              "  }\n",
              "\n",
              "  .colab-df-quickchart {\n",
              "    background-color: var(--bg-color);\n",
              "    border: none;\n",
              "    border-radius: 50%;\n",
              "    cursor: pointer;\n",
              "    display: none;\n",
              "    fill: var(--fill-color);\n",
              "    height: 32px;\n",
              "    padding: 0;\n",
              "    width: 32px;\n",
              "  }\n",
              "\n",
              "  .colab-df-quickchart:hover {\n",
              "    background-color: var(--hover-bg-color);\n",
              "    box-shadow: 0 1px 2px rgba(60, 64, 67, 0.3), 0 1px 3px 1px rgba(60, 64, 67, 0.15);\n",
              "    fill: var(--button-hover-fill-color);\n",
              "  }\n",
              "\n",
              "  .colab-df-quickchart-complete:disabled,\n",
              "  .colab-df-quickchart-complete:disabled:hover {\n",
              "    background-color: var(--disabled-bg-color);\n",
              "    fill: var(--disabled-fill-color);\n",
              "    box-shadow: none;\n",
              "  }\n",
              "\n",
              "  .colab-df-spinner {\n",
              "    border: 2px solid var(--fill-color);\n",
              "    border-color: transparent;\n",
              "    border-bottom-color: var(--fill-color);\n",
              "    animation:\n",
              "      spin 1s steps(1) infinite;\n",
              "  }\n",
              "\n",
              "  @keyframes spin {\n",
              "    0% {\n",
              "      border-color: transparent;\n",
              "      border-bottom-color: var(--fill-color);\n",
              "      border-left-color: var(--fill-color);\n",
              "    }\n",
              "    20% {\n",
              "      border-color: transparent;\n",
              "      border-left-color: var(--fill-color);\n",
              "      border-top-color: var(--fill-color);\n",
              "    }\n",
              "    30% {\n",
              "      border-color: transparent;\n",
              "      border-left-color: var(--fill-color);\n",
              "      border-top-color: var(--fill-color);\n",
              "      border-right-color: var(--fill-color);\n",
              "    }\n",
              "    40% {\n",
              "      border-color: transparent;\n",
              "      border-right-color: var(--fill-color);\n",
              "      border-top-color: var(--fill-color);\n",
              "    }\n",
              "    60% {\n",
              "      border-color: transparent;\n",
              "      border-right-color: var(--fill-color);\n",
              "    }\n",
              "    80% {\n",
              "      border-color: transparent;\n",
              "      border-right-color: var(--fill-color);\n",
              "      border-bottom-color: var(--fill-color);\n",
              "    }\n",
              "    90% {\n",
              "      border-color: transparent;\n",
              "      border-bottom-color: var(--fill-color);\n",
              "    }\n",
              "  }\n",
              "</style>\n",
              "\n",
              "  <script>\n",
              "    async function quickchart(key) {\n",
              "      const quickchartButtonEl =\n",
              "        document.querySelector('#' + key + ' button');\n",
              "      quickchartButtonEl.disabled = true;  // To prevent multiple clicks.\n",
              "      quickchartButtonEl.classList.add('colab-df-spinner');\n",
              "      try {\n",
              "        const charts = await google.colab.kernel.invokeFunction(\n",
              "            'suggestCharts', [key], {});\n",
              "      } catch (error) {\n",
              "        console.error('Error during call to suggestCharts:', error);\n",
              "      }\n",
              "      quickchartButtonEl.classList.remove('colab-df-spinner');\n",
              "      quickchartButtonEl.classList.add('colab-df-quickchart-complete');\n",
              "    }\n",
              "    (() => {\n",
              "      let quickchartButtonEl =\n",
              "        document.querySelector('#df-4239be0a-87b3-4017-92bc-7778f2f0f21e button');\n",
              "      quickchartButtonEl.style.display =\n",
              "        google.colab.kernel.accessAllowed ? 'block' : 'none';\n",
              "    })();\n",
              "  </script>\n",
              "</div>\n",
              "    </div>\n",
              "  </div>\n"
            ]
          },
          "metadata": {},
          "execution_count": 27
        }
      ]
    },
    {
      "cell_type": "markdown",
      "source": [
        "**About the dataset:**\n",
        "\n",
        "*Date:* The date when the data was recorded. Format: YYYY-MM-DD.\n",
        "\n",
        "*Open:* Market's opening price for the day.\n",
        "\n",
        "*High:* Maximum price reached during the trading session.\n",
        "\n",
        "*Low:* Minimum traded price during the day.\n",
        "\n",
        "*Close:* Market's closing price.\n",
        "\n",
        "*Volume:* Number of contracts traded during the session.\n",
        "\n",
        "*Ticker:* Unique market quotation symbol for the grain future.\n",
        "\n",
        "*Commodity:* Specifies the type of grain the future contract represents (e.g., corn, oat)."
      ],
      "metadata": {
        "id": "-4XbTx2UEKen"
      }
    },
    {
      "cell_type": "code",
      "source": [
        "# checking for missing values\n",
        "missing_values = df_grain.isnull().sum()\n",
        "missing_values"
      ],
      "metadata": {
        "colab": {
          "base_uri": "https://localhost:8080/"
        },
        "id": "rJaNmIebZUOw",
        "outputId": "029801e6-b4b5-46f9-d65d-319f2c4c8f26"
      },
      "execution_count": 3,
      "outputs": [
        {
          "output_type": "execute_result",
          "data": {
            "text/plain": [
              "ticker       0\n",
              "commodity    0\n",
              "date         0\n",
              "open         0\n",
              "high         0\n",
              "low          0\n",
              "close        0\n",
              "volume       0\n",
              "dtype: int64"
            ]
          },
          "metadata": {},
          "execution_count": 3
        }
      ]
    },
    {
      "cell_type": "markdown",
      "source": [
        "### Univariate analysis: measures of central tendency"
      ],
      "metadata": {
        "id": "vqWhmRDh8DLl"
      }
    },
    {
      "cell_type": "code",
      "source": [
        "# checking column types\n",
        "for c in df_grain.columns:\n",
        "  print(f\"{c}: {type(df_grain[c][0])}\")"
      ],
      "metadata": {
        "colab": {
          "base_uri": "https://localhost:8080/"
        },
        "id": "SDq4gnVV86DM",
        "outputId": "1f12e555-4b5d-4179-efc5-1568b36e00de"
      },
      "execution_count": 4,
      "outputs": [
        {
          "output_type": "stream",
          "name": "stdout",
          "text": [
            "ticker: <class 'str'>\n",
            "commodity: <class 'str'>\n",
            "date: <class 'str'>\n",
            "open: <class 'numpy.float64'>\n",
            "high: <class 'numpy.float64'>\n",
            "low: <class 'numpy.float64'>\n",
            "close: <class 'numpy.float64'>\n",
            "volume: <class 'numpy.int64'>\n"
          ]
        }
      ]
    },
    {
      "cell_type": "code",
      "source": [
        "# mean\n",
        "print(f\"The mean of open is: {df_grain['open'].mean()}\")\n",
        "print(f\"The mean of high is: {df_grain['high'].mean()}\")\n",
        "print(f\"The mean of low is: {df_grain['low'].mean()}\")\n",
        "print(f\"The mean of close is: {df_grain['close'].mean()}\")\n",
        "print(f\"The mean of volume is: {df_grain['volume'].mean()}\")"
      ],
      "metadata": {
        "colab": {
          "base_uri": "https://localhost:8080/"
        },
        "id": "jHOJC8-ADFiC",
        "outputId": "2a57b5ef-94f7-4824-c03f-3f3eeba7f6c8"
      },
      "execution_count": 5,
      "outputs": [
        {
          "output_type": "stream",
          "name": "stdout",
          "text": [
            "The mean of open is: 573.8794746085125\n",
            "The mean of high is: 579.3892813105005\n",
            "The mean of low is: 568.5188614058233\n",
            "The mean of close is: 573.8682984647297\n",
            "The mean of volume is: 27601.311645504313\n"
          ]
        }
      ]
    },
    {
      "cell_type": "code",
      "source": [
        "# median\n",
        "print(f\"The median of open is: {df_grain['open'].median()}\")\n",
        "print(f\"The median of high is: {df_grain['high'].median()}\")\n",
        "print(f\"The median of low is: {df_grain['low'].median()}\")\n",
        "print(f\"The median of close is: {df_grain['close'].median()}\")\n",
        "print(f\"The median of volume is: {df_grain['volume'].median()}\")"
      ],
      "metadata": {
        "colab": {
          "base_uri": "https://localhost:8080/"
        },
        "id": "GGsfe74B8Lgj",
        "outputId": "3c51f492-d3eb-4517-d5c3-9318211e36f8"
      },
      "execution_count": 6,
      "outputs": [
        {
          "output_type": "stream",
          "name": "stdout",
          "text": [
            "The median of open is: 435.5\n",
            "The median of high is: 439.0\n",
            "The median of low is: 431.75\n",
            "The median of close is: 435.75\n",
            "The median of volume is: 867.0\n"
          ]
        }
      ]
    },
    {
      "cell_type": "code",
      "source": [
        "# mode\n",
        "print(f\"The mode of open is: {df_grain['open'].mode().iloc[0]}\")\n",
        "print(f\"The mode of high is: {df_grain['high'].mode().iloc[0]}\")\n",
        "print(f\"The mode of low is: {df_grain['low'].mode().iloc[0]}\")\n",
        "print(f\"The mode of close is: {df_grain['close'].mode().iloc[0]}\")\n",
        "print(f\"The mode of volume is: {df_grain['volume'].mode().iloc[0]}\")"
      ],
      "metadata": {
        "colab": {
          "base_uri": "https://localhost:8080/"
        },
        "id": "nYLkRVVk8Mgk",
        "outputId": "2ae827dd-dd45-4700-8046-747fc6bca032"
      },
      "execution_count": 15,
      "outputs": [
        {
          "output_type": "stream",
          "name": "stdout",
          "text": [
            "The mode of open is: 134.0\n",
            "The mode of high is: 134.0\n",
            "The mode of low is: 134.0\n",
            "The mode of close is: 134.0\n",
            "The mode of volume is: 0\n"
          ]
        }
      ]
    },
    {
      "cell_type": "code",
      "source": [
        "#csv file to describe columns sorted by commodity type\n",
        "opens = df_grain.groupby('commodity').open.describe()\n",
        "opens.to_csv('data/grainsopen.csv')\n",
        "highs = df_grain.groupby('commodity').high.describe()\n",
        "highs.to_csv('data/grainshigh.csv')\n",
        "lows = df_grain.groupby('commodity').low.describe()\n",
        "lows.to_csv('data/grainslow.csv')\n",
        "closes = df_grain.groupby('commodity').close.describe()\n",
        "closes.to_csv('data/grainsclose.csv')\n",
        "volumes = df_grain.groupby('commodity').volume.describe()\n",
        "volumes.to_csv('data/grainsvolume.csv')"
      ],
      "metadata": {
        "id": "emmj3C4QbGig"
      },
      "execution_count": 17,
      "outputs": []
    },
    {
      "cell_type": "markdown",
      "source": [
        "### Univariate analysis: measures of spread"
      ],
      "metadata": {
        "id": "zmWLmzSXc-Mx"
      }
    },
    {
      "cell_type": "code",
      "source": [
        "# range\n",
        "print(f\"The range of open is: {df_grain['open'].max() - df_grain['open'].min()}\")\n",
        "print(f\"The range of low is: {df_grain['low'].max() - df_grain['low'].min()}\")\n",
        "print(f\"The range of high is: {df_grain['high'].max() - df_grain['high'].min()}\")\n",
        "print(f\"The range of close is: {df_grain['close'].max() - df_grain['close'].min()}\")\n",
        "print(f\"The range of volume is: {df_grain['volume'].max() - df_grain['volume'].min()}\")"
      ],
      "metadata": {
        "id": "bPfi4VG_Crhx",
        "colab": {
          "base_uri": "https://localhost:8080/"
        },
        "outputId": "2907b2b4-4012-4008-962f-84ca553cf1ab"
      },
      "execution_count": 19,
      "outputs": [
        {
          "output_type": "stream",
          "name": "stdout",
          "text": [
            "The range of open is: 2420.6000003814697\n",
            "The range of low is: 2385.619999885559\n",
            "The range of high is: 2454.090000152588\n",
            "The range of close is: 2431.619999885559\n",
            "The range of volume is: 523849\n"
          ]
        }
      ]
    },
    {
      "cell_type": "code",
      "source": [
        "#variance\n",
        "print(f\"The variance of open is: {df_grain['open'].var()}\")\n",
        "print(f\"The variance of high is: {df_grain['high'].var()}\")\n",
        "print(f\"The variance of low is: {df_grain['low'].var()}\")\n",
        "print(f\"The variance of close is: {df_grain['close'].var()}\")\n",
        "print(f\"The variance of volume is: {df_grain['volume'].var()}\")"
      ],
      "metadata": {
        "colab": {
          "base_uri": "https://localhost:8080/"
        },
        "id": "c3WQGRY8dBDK",
        "outputId": "cee70560-ae2f-4d98-a734-c078b50ee151"
      },
      "execution_count": 21,
      "outputs": [
        {
          "output_type": "stream",
          "name": "stdout",
          "text": [
            "The variance of open is: 210606.4792034129\n",
            "The variance of high is: 214829.28367529344\n",
            "The variance of low is: 206641.44984356235\n",
            "The variance of close is: 210632.37773276496\n",
            "The variance of volume is: 2739755954.874641\n"
          ]
        }
      ]
    },
    {
      "cell_type": "code",
      "source": [
        "# standard deviation\n",
        "print(f\"The standard deviation of open is: {df_grain['open'].std()}\")\n",
        "print(f\"The standard deviation of high is: {df_grain['high'].std()}\")\n",
        "print(f\"The standard deviation of low is: {df_grain['low'].std()}\")\n",
        "print(f\"The standard deviation of close is: {df_grain['close'].std()}\")\n",
        "print(f\"The standard deviation of volume is: {df_grain['volume'].std()}\")"
      ],
      "metadata": {
        "colab": {
          "base_uri": "https://localhost:8080/"
        },
        "id": "YnNR2n-beTPK",
        "outputId": "93307d5f-52c2-4b31-c16e-bd2e211b49df"
      },
      "execution_count": 23,
      "outputs": [
        {
          "output_type": "stream",
          "name": "stdout",
          "text": [
            "The standard deviation of open is: 458.9188154820119\n",
            "The standard deviation of high is: 463.4968000701768\n",
            "The standard deviation of low is: 454.57832091242796\n",
            "The standard deviation of close is: 458.9470315110067\n",
            "The standard deviation of volume is: 52342.678140066935\n"
          ]
        }
      ]
    },
    {
      "cell_type": "code",
      "source": [
        "# IQR\n",
        "print(f\"The IQR of open is: {df_grain['open'].quantile(0.75) - df_grain['open'].quantile(0.25)}\")\n",
        "print(f\"The IQR of high is: {df_grain['high'].quantile(0.75) - df_grain['high'].quantile(0.25)}\")\n",
        "print(f\"The IQR of low is: {df_grain['low'].quantile(0.75) - df_grain['low'].quantile(0.25)}\")\n",
        "print(f\"The IQR of close is: {df_grain['close'].quantile(0.75) - df_grain['close'].quantile(0.25)}\")\n",
        "print(f\"The IQR of volume is: {df_grain['volume'].quantile(0.75) - df_grain['volume'].quantile(0.25)}\")"
      ],
      "metadata": {
        "colab": {
          "base_uri": "https://localhost:8080/"
        },
        "id": "4qtPu-ssdDbZ",
        "outputId": "beb1b8db-41c2-468b-f3ab-8565e9a50635"
      },
      "execution_count": 25,
      "outputs": [
        {
          "output_type": "stream",
          "name": "stdout",
          "text": [
            "The IQR of open is: 653.5\n",
            "The IQR of high is: 660.0\n",
            "The IQR of low is: 647.5\n",
            "The IQR of close is: 652.75\n",
            "The IQR of volume is: 28208.0\n"
          ]
        }
      ]
    },
    {
      "cell_type": "markdown",
      "source": [
        "### visualization of data with histograms"
      ],
      "metadata": {
        "id": "7-80c0cDfjob"
      }
    },
    {
      "cell_type": "code",
      "source": [
        "# histogram for open\n",
        "\n",
        "plt.hist(df_grain['open'], bins=30, density=True, alpha=0.7, color='blue', label='Histogram')\n",
        "plt.title('Normal Distribution')\n",
        "plt.xlabel('Value')\n",
        "plt.ylabel('Probability Density')\n",
        "plt.legend()\n",
        "plt.grid(True)\n",
        "plt.show()"
      ],
      "metadata": {
        "id": "9N73j6GtI9R8",
        "colab": {
          "base_uri": "https://localhost:8080/",
          "height": 472
        },
        "outputId": "cd206851-c678-4df5-dad0-5318824e7158"
      },
      "execution_count": 29,
      "outputs": [
        {
          "output_type": "display_data",
          "data": {
            "text/plain": [
              "<Figure size 640x480 with 1 Axes>"
            ],
            "image/png": "[encoded data removed]"
          },
          "metadata": {}
        }
      ]
    },
    {
      "cell_type": "markdown",
      "source": [
        "## **2. Bivariate Analysis**"
      ],
      "metadata": {
        "id": "0MBRzZAsB8QB"
      }
    },
    {
      "cell_type": "markdown",
      "source": [
        "## **3. Handling Outliers**"
      ],
      "metadata": {
        "id": "ULd_8ihiCC7o"
      }
    },
    {
      "cell_type": "markdown",
      "source": [
        "## **4. Automated Analysis**"
      ],
      "metadata": {
        "id": "TffBeeFiCGRR"
      }
    }
  ]
}